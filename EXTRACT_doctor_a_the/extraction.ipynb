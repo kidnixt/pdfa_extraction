{
 "cells": [
  {
   "cell_type": "code",
   "execution_count": null,
   "metadata": {},
   "outputs": [],
   "source": [
    "import torch\n",
    "from transformers import AutoModelForCausalLM\n",
    "from transformers import AutoTokenizer\n",
    "import sys\n",
    "from datetime import datetime\n",
    "sys.path.append(\"../\")\n",
    "sys.path.append(\"../../\")\n",
    "torch.manual_seed(42)\n",
    "device = \"cuda\" if torch.cuda.is_available() else \"cpu\"\n",
    "model_id = \"gpt2\"\n",
    "\n",
    "tokenizer_with_prefix_space = AutoTokenizer.from_pretrained(model_id, use_fast=True, add_prefix_space=True, local_files_only = False)\n",
    "model = AutoModelForCausalLM.from_pretrained(model_id,\n",
    "                                            return_dict_in_generate=True,\n",
    "                                            pad_token_id=tokenizer_with_prefix_space.eos_token_id).to(device)"
   ]
  },
  {
   "cell_type": "code",
   "execution_count": null,
   "metadata": {},
   "outputs": [],
   "source": [
    "from gpt2.gpt2_probabilistic_model_wrapper import GPT2_probabilistic_model_wrapper\n",
    "from guiding_wfa_doctor_a_the import alphabet_A, alphabet_B\n",
    "wrapper_with_prefix_space_A = GPT2_probabilistic_model_wrapper(100, alphabet_A, device, model, tokenizer_with_prefix_space)\n",
    "wrapper_with_prefix_space_B = GPT2_probabilistic_model_wrapper(100, alphabet_B, device, model, tokenizer_with_prefix_space)\n"
   ]
  },
  {
   "cell_type": "code",
   "execution_count": null,
   "metadata": {},
   "outputs": [],
   "source": [
    "from guiding_wfa_doctor_a_the import get_doctor_wfa_A, get_doctor_wfa_B\n",
    "from pythautomata.utilities.guiding_wfa_sequence_generator import GuidingWDFASequenceGenerator\n",
    "guiding_wfa_A = get_doctor_wfa_A(wrapper_with_prefix_space_A.terminal_symbol)\n",
    "guiding_generator = GuidingWDFASequenceGenerator(guiding_wfa_A, None)\n",
    "guiding_generator.generate_words(15)"
   ]
  },
  {
   "cell_type": "code",
   "execution_count": null,
   "metadata": {},
   "outputs": [],
   "source": [
    "guiding_wfa_B = get_doctor_wfa_B(wrapper_with_prefix_space_B.terminal_symbol)\n",
    "guiding_generator = GuidingWDFASequenceGenerator(guiding_wfa_B, None)\n",
    "guiding_generator.generate_words(15)"
   ]
  },
  {
   "cell_type": "markdown",
   "metadata": {},
   "source": [
    "# Using A"
   ]
  },
  {
   "cell_type": "code",
   "execution_count": null,
   "metadata": {},
   "outputs": [],
   "source": [
    "from pythautomata.model_exporters.dot_exporters.wfa_dot_exporting_strategy import WFADotExportingStrategy\n",
    "from IPython.display import display\n",
    "\n",
    "exporter = WFADotExportingStrategy()\n",
    "graph = exporter.create_graph(guiding_wfa_A)\n",
    "\n",
    "display(graph)"
   ]
  },
  {
   "cell_type": "code",
   "execution_count": null,
   "metadata": {},
   "outputs": [],
   "source": [
    "exporter.export(guiding_wfa_A,\"./\")"
   ]
  },
  {
   "cell_type": "markdown",
   "metadata": {},
   "source": [
    "# Using The"
   ]
  },
  {
   "cell_type": "code",
   "execution_count": null,
   "metadata": {},
   "outputs": [],
   "source": [
    "from pythautomata.model_exporters.dot_exporters.wfa_dot_exporting_strategy import WFADotExportingStrategy\n",
    "from IPython.display import display\n",
    "\n",
    "exporter = WFADotExportingStrategy()\n",
    "graph = exporter.create_graph(guiding_wfa_B)\n",
    "\n",
    "display(graph)"
   ]
  },
  {
   "cell_type": "code",
   "execution_count": null,
   "metadata": {},
   "outputs": [],
   "source": [
    "exporter.export(guiding_wfa_B,\"./\")"
   ]
  },
  {
   "cell_type": "code",
   "execution_count": null,
   "metadata": {},
   "outputs": [],
   "source": [
    "from src.synchronic_model_guided_language_model import SynchronicModelGuidedLanguageModel\n",
    "\n",
    "property_model_A = get_doctor_wfa_A(wrapper_with_prefix_space_A.terminal_symbol)\n",
    "property_model_B = get_doctor_wfa_B(wrapper_with_prefix_space_B.terminal_symbol)\n",
    "synchronic_model_with_prefix_space_A = SynchronicModelGuidedLanguageModel(wrapper_with_prefix_space_A, property_model_A, model_name=\"GUIDED_GPT2\", max_seq_length=6,normalize_outputs=True, top_k = 2)\n",
    "synchronic_model_with_prefix_space_B = SynchronicModelGuidedLanguageModel(wrapper_with_prefix_space_B, property_model_B, model_name=\"GUIDED_GPT2\", max_seq_length=6,normalize_outputs=True, top_k = 2)\n",
    "\n"
   ]
  },
  {
   "cell_type": "code",
   "execution_count": null,
   "metadata": {},
   "outputs": [],
   "source": [
    "from pymodelextractor.teachers.pac_probabilistic_teacher import PACProbabilisticTeacher\n",
    "from src.hypothesis_aware_sample_probabilistic_teacher import HypothesisAwareSampleProbabilisticTeacher\n",
    "from pymodelextractor.learners.observation_tree_learners.bounded_pdfa_quantization_n_ary_tree_learner import BoundedPDFAQuantizationNAryTreeLearner\n",
    "from pythautomata.utilities.probability_partitioner import TopKProbabilityPartitioner, QuantizationProbabilityPartitioner, RankingPartitioner\n",
    "from pythautomata.model_comparators.wfa_partition_comparison_strategy import WFAPartitionComparator\n",
    "from pythautomata.utilities.uniform_word_sequence_generator import UniformWordSequenceGenerator\n",
    "\n",
    "\n",
    "partitioner = TopKProbabilityPartitioner(2)\n",
    "comparator = WFAPartitionComparator(partitioner)\n",
    "epsilon = 0.1\n",
    "delta = epsilon\n",
    "sequence_generator = guiding_generator\n",
    "max_states = 30\n",
    "max_query_length = 100\n"
   ]
  },
  {
   "cell_type": "code",
   "execution_count": null,
   "metadata": {},
   "outputs": [],
   "source": [
    "teacher_with_prefix_space_A = HypothesisAwareSampleProbabilisticTeacher(synchronic_model_with_prefix_space_A, \n",
    "                                                                        comparator, 30)\n",
    "\n",
    "teacher_with_prefix_space_B = HypothesisAwareSampleProbabilisticTeacher(synchronic_model_with_prefix_space_B,\n",
    "                                                                        comparator, 30)"
   ]
  },
  {
   "cell_type": "code",
   "execution_count": null,
   "metadata": {},
   "outputs": [],
   "source": [
    "learner = BoundedPDFAQuantizationNAryTreeLearner(partitioner, \n",
    "                                                 max_states, \n",
    "                                                 max_query_length, \n",
    "                                                 max_seconds_run = None, \n",
    "                                                 generate_partial_hipothesis = True, \n",
    "                                                 pre_cache_queries_for_building_hipothesis = True,  \n",
    "                                                 check_probabilistic_hipothesis = False, \n",
    "                                                 omit_zero_transitions=True)"
   ]
  },
  {
   "cell_type": "code",
   "execution_count": null,
   "metadata": {},
   "outputs": [],
   "source": [
    "from pythautomata.model_exporters.dot_exporters.wfa_dot_exporting_strategy import WFADotExportingStrategy\n",
    "import time\n",
    "\n",
    "\n",
    "start_time = time.time()\n",
    "learning_result_with_prefix_space_A = learner.learn(teacher_with_prefix_space_A, verbose = True)\n",
    "print(\"--- %s seconds ---\" % (time.time() - start_time))\n",
    "\n",
    "exporter = WFADotExportingStrategy()\n",
    "actual_date = datetime.now().strftime(\"%d_%m_%Y_%H_%M_%S\")\n",
    "exporter.export(learning_result_with_prefix_space_A.model,\"./\", \"pdfa_doctor_with_prefix_\"+actual_date)\n"
   ]
  },
  {
   "cell_type": "code",
   "execution_count": null,
   "metadata": {},
   "outputs": [],
   "source": [
    "from pythautomata.model_exporters.dot_exporters.wfa_dot_exporting_strategy import WFADotExportingStrategy\n",
    "\n",
    "start_time = time.time()\n",
    "learning_result_with_prefix_space_B = learner.learn(teacher_with_prefix_space_B, verbose = True)\n",
    "print(\"--- %s seconds ---\" % (time.time() - start_time))\n",
    "\n",
    "exporter = WFADotExportingStrategy()\n",
    "actual_date = datetime.now().strftime(\"%d_%m_%Y_%H_%M_%S\")\n",
    "exporter.export(learning_result_with_prefix_space_B.model,\"./\", \"pdfa_doctor_with_prefix_\"+actual_date)\n"
   ]
  },
  {
   "cell_type": "code",
   "execution_count": null,
   "metadata": {},
   "outputs": [],
   "source": [
    "from pythautomata.model_exporters.dot_exporters.wfa_dot_exporting_strategy import WFADotExportingStrategy\n",
    "from IPython.display import display\n",
    "\n",
    "graph1 = exporter.create_graph(learning_result_with_prefix_space_A.model)\n",
    "display(graph1)"
   ]
  },
  {
   "cell_type": "code",
   "execution_count": null,
   "metadata": {},
   "outputs": [],
   "source": [
    "graph2 = exporter.create_graph(learning_result_with_prefix_space_B.model)\n",
    "display(graph2)"
   ]
  }
 ],
 "metadata": {
  "language_info": {
   "name": "python"
  }
 },
 "nbformat": 4,
 "nbformat_minor": 2
}
