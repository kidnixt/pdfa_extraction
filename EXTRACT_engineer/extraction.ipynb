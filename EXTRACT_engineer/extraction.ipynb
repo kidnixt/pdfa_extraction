{
 "cells": [
  {
   "cell_type": "code",
   "execution_count": null,
   "metadata": {},
   "outputs": [],
   "source": [
    "import torch\n",
    "from transformers import AutoModelForCausalLM\n",
    "from transformers import AutoTokenizer\n",
    "import sys\n",
    "from datetime import datetime\n",
    "sys.path.append(\"../\")\n",
    "sys.path.append(\"../../\")\n",
    "torch.manual_seed(42)\n",
    "device = \"cuda\" if torch.cuda.is_available() else \"cpu\"\n",
    "model_id = \"gpt2\"\n",
    "\n",
    "tokenizer_with_prefix_space = AutoTokenizer.from_pretrained(model_id, use_fast=True, add_prefix_space=True, local_files_only = False)\n",
    "tokenizer_without_prefix_space = AutoTokenizer.from_pretrained(model_id, use_fast=True, add_prefix_space=False, local_files_only = False)\n",
    "model = AutoModelForCausalLM.from_pretrained(model_id,\n",
    "                                            return_dict_in_generate=True,\n",
    "                                            pad_token_id=tokenizer_with_prefix_space.eos_token_id).to(device)"
   ]
  },
  {
   "cell_type": "code",
   "execution_count": null,
   "metadata": {},
   "outputs": [],
   "source": [
    "from gpt2.gpt2_probabilistic_model_wrapper import GPT2_probabilistic_model_wrapper\n",
    "from guiding_wfa_engineer import alphabet\n",
    "wrapper_with_prefix_space = GPT2_probabilistic_model_wrapper(100, alphabet, device, model, tokenizer_with_prefix_space)\n",
    "wrapper_without_prefix_space = GPT2_probabilistic_model_wrapper(100, alphabet, device, model, tokenizer_without_prefix_space)\n"
   ]
  },
  {
   "cell_type": "code",
   "execution_count": null,
   "metadata": {},
   "outputs": [],
   "source": [
    "from guiding_wfa_engineer import get_engineer_wfa\n",
    "from pythautomata.utilities.guiding_wfa_sequence_generator import GuidingWDFASequenceGenerator\n",
    "guiding_wfa = get_engineer_wfa(wrapper_with_prefix_space.terminal_symbol)\n",
    "guiding_generator = GuidingWDFASequenceGenerator(guiding_wfa, None)\n",
    "guiding_generator.generate_words(7)"
   ]
  },
  {
   "cell_type": "code",
   "execution_count": null,
   "metadata": {},
   "outputs": [],
   "source": [
    "from pythautomata.model_exporters.dot_exporters.wfa_dot_exporting_strategy import WFADotExportingStrategy\n",
    "from IPython.display import display\n",
    "\n",
    "exporter = WFADotExportingStrategy()\n",
    "graph = exporter.create_graph(guiding_wfa)\n",
    "\n",
    "display(graph)"
   ]
  },
  {
   "cell_type": "code",
   "execution_count": null,
   "metadata": {},
   "outputs": [],
   "source": [
    "exporter.export(guiding_wfa,\"./\")"
   ]
  },
  {
   "cell_type": "code",
   "execution_count": null,
   "metadata": {},
   "outputs": [],
   "source": [
    "from src.synchronic_model_guided_language_model import SynchronicModelGuidedLanguageModel\n",
    "\n",
    "property_model = get_engineer_wfa(wrapper_with_prefix_space.terminal_symbol)\n",
    "syncrhronic_model_with_prefix_space = SynchronicModelGuidedLanguageModel(wrapper_with_prefix_space, property_model, model_name=\"GUIDED_GPT2\", max_seq_length=6,normalize_outputs=True, top_k = 2)\n",
    "syncrhronic_model_without_prefix_space = SynchronicModelGuidedLanguageModel(wrapper_without_prefix_space, property_model, model_name=\"GUIDED_GPT2\", max_seq_length=6,normalize_outputs=True, top_k = 2)"
   ]
  },
  {
   "cell_type": "code",
   "execution_count": null,
   "metadata": {},
   "outputs": [],
   "source": [
    "from pymodelextractor.teachers.pac_probabilistic_teacher import PACProbabilisticTeacher\n",
    "from src.hypothesis_aware_sample_probabilistic_teacher import HypothesisAwareSampleProbabilisticTeacher\n",
    "from pymodelextractor.learners.observation_tree_learners.bounded_pdfa_quantization_n_ary_tree_learner import BoundedPDFAQuantizationNAryTreeLearner\n",
    "from pythautomata.utilities.probability_partitioner import TopKProbabilityPartitioner, QuantizationProbabilityPartitioner, RankingPartitioner\n",
    "from pythautomata.model_comparators.wfa_partition_comparison_strategy import WFAPartitionComparator\n",
    "from pythautomata.utilities.uniform_word_sequence_generator import UniformWordSequenceGenerator\n",
    "\n",
    "\n",
    "partitioner = QuantizationProbabilityPartitioner(2)\n",
    "comparator = WFAPartitionComparator(partitioner)\n",
    "epsilon = 0.1\n",
    "delta = epsilon\n",
    "sequence_generator = guiding_generator\n",
    "max_states = 30\n",
    "max_query_length = 100\n"
   ]
  },
  {
   "cell_type": "code",
   "execution_count": null,
   "metadata": {},
   "outputs": [],
   "source": [
    "teacher_with_prefix_space = HypothesisAwareSampleProbabilisticTeacher(syncrhronic_model_with_prefix_space, \n",
    "                                                                      comparator, 30)\n",
    "teacher_without_prefix_space = HypothesisAwareSampleProbabilisticTeacher(syncrhronic_model_without_prefix_space, \n",
    "                                                                         comparator, 30)"
   ]
  },
  {
   "cell_type": "code",
   "execution_count": null,
   "metadata": {},
   "outputs": [],
   "source": [
    "learner = BoundedPDFAQuantizationNAryTreeLearner(partitioner, \n",
    "                                                 max_states, \n",
    "                                                 max_query_length, \n",
    "                                                 max_seconds_run = 60, \n",
    "                                                 generate_partial_hipothesis = True, \n",
    "                                                 pre_cache_queries_for_building_hipothesis = True,  \n",
    "                                                 check_probabilistic_hipothesis = False, \n",
    "                                                 omit_zero_transitions=True)"
   ]
  },
  {
   "cell_type": "code",
   "execution_count": null,
   "metadata": {},
   "outputs": [],
   "source": [
    "from pythautomata.model_exporters.dot_exporters.wfa_dot_exporting_strategy import WFADotExportingStrategy\n",
    "from IPython.display import display"
   ]
  },
  {
   "cell_type": "code",
   "execution_count": null,
   "metadata": {},
   "outputs": [],
   "source": [
    "learning_result_with_prefix_space = learner.learn(teacher_with_prefix_space, verbose = True)\n",
    "exporter = WFADotExportingStrategy()\n",
    "actual_date = datetime.now().strftime(\"%d_%m_%Y_%H_%M_%S\")\n",
    "exporter.export(learning_result_with_prefix_space.model,\"./\", \"pdfa_engineer_with_prefix_\"+actual_date)\n",
    "graph1 = exporter.create_graph(learning_result_with_prefix_space.model)\n",
    "display(graph1)"
   ]
  },
  {
   "cell_type": "code",
   "execution_count": null,
   "metadata": {},
   "outputs": [],
   "source": [
    "learning_result_without_prefix_space = learner.learn(teacher_without_prefix_space, verbose = True)\n",
    "\n",
    "exporter = WFADotExportingStrategy()\n",
    "actual_date = datetime.now().strftime(\"%d_%m_%Y_%H_%M_%S\")\n",
    "graph2 = exporter.create_graph(learning_result_without_prefix_space.model)\n",
    "exporter.export(learning_result_without_prefix_space.model, \"./\", \"pdfa_engineer_without_prefix_\"+actual_date)\n",
    "display(graph2)"
   ]
  },
  {
   "cell_type": "code",
   "execution_count": null,
   "metadata": {},
   "outputs": [],
   "source": [
    "pdfa_with = learning_result_with_prefix_space.model\n",
    "from pythautomata.utilities.pdfa_operations import get_representative_sample\n",
    "\n",
    "for i in range(1000):        \n",
    "        number = get_representative_sample(pdfa_with, sample_size = 1)\n",
    "        print(number)"
   ]
  },
  {
   "cell_type": "code",
   "execution_count": null,
   "metadata": {},
   "outputs": [],
   "source": [
    "pdfa_without = learning_result_without_prefix_space.model\n",
    "from pythautomata.utilities.pdfa_operations import get_representative_sample\n",
    "\n",
    "for i in range(1000):        \n",
    "        number = get_representative_sample(pdfa_without, sample_size = 1)\n",
    "        print(number)"
   ]
  }
 ],
 "metadata": {
  "kernelspec": {
   "display_name": "Python 3",
   "language": "python",
   "name": "python3"
  },
  "language_info": {
   "codemirror_mode": {
    "name": "ipython",
    "version": 3
   },
   "file_extension": ".py",
   "mimetype": "text/x-python",
   "name": "python",
   "nbconvert_exporter": "python",
   "pygments_lexer": "ipython3",
   "version": "3.10.12"
  }
 },
 "nbformat": 4,
 "nbformat_minor": 2
}
