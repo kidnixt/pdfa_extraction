{
 "cells": [
  {
   "cell_type": "code",
   "execution_count": 10,
   "id": "4f3ef537",
   "metadata": {},
   "outputs": [
    {
     "name": "stderr",
     "output_type": "stream",
     "text": [
      "/opt/conda/lib/python3.9/site-packages/transformers/tokenization_utils_base.py:1601: FutureWarning: `clean_up_tokenization_spaces` was not set. It will be set to `True` by default. This behavior will be depracted in transformers v4.45, and will be then set to `False` by default. For more details check this issue: https://github.com/huggingface/transformers/issues/31884\n",
      "  warnings.warn(\n"
     ]
    }
   ],
   "source": [
    "import torch\n",
    "from transformers import AutoModelForCausalLM\n",
    "from transformers import AutoTokenizer\n",
    "import sys\n",
    "from datetime import datetime\n",
    "sys.path.append(\"../\")\n",
    "sys.path.append(\"../../\")\n",
    "torch.manual_seed(42)\n",
    "device = \"cuda\" if torch.cuda.is_available() else \"cpu\"\n",
    "model_id = \"gpt2\"\n",
    "\n",
    "tokenizer = AutoTokenizer.from_pretrained(model_id, use_fast=True, add_prefix_space=True, local_files_only = False)\n",
    "model = AutoModelForCausalLM.from_pretrained(model_id,\n",
    "                                            return_dict_in_generate=True,\n",
    "                                            pad_token_id=tokenizer.eos_token_id).to(device)"
   ]
  },
  {
   "cell_type": "code",
   "execution_count": 11,
   "id": "a7c9d9d9",
   "metadata": {},
   "outputs": [],
   "source": [
    "symbols_important = [\"He\", \"She\"]\n",
    "symbols_dummy = [\"died.\", \n",
    "                 \"died yesterday.\",\n",
    "                 \"died yesterday in.\", \n",
    "                 \"died yesterday in a.\", \n",
    "                 \"died yesterday in a very.\", \n",
    "                 \"died yesterday in a very sad.\", \n",
    "                 \"died yesterday in a very sad way.\", \n",
    "                 \"died yesterday in a very sad way due.\", \n",
    "                 \"died yesterday in a very sad way due to.\", \n",
    "                 \"died yesterday in a very sad way due to a.\",\n",
    "                 \"died yesterday in a very sad way due to a heart.\", \n",
    "                 \"died yesterday in a very sad way due to a heart attack.\"]"
   ]
  },
  {
   "cell_type": "code",
   "execution_count": 12,
   "id": "9646f823",
   "metadata": {},
   "outputs": [
    {
     "name": "stdout",
     "output_type": "stream",
     "text": [
      "[679, 1375]\n",
      "['He', 'She']\n"
     ]
    }
   ],
   "source": [
    "print(tokenizer.encode(symbols_important))\n",
    "print(symbols_important)"
   ]
  },
  {
   "cell_type": "code",
   "execution_count": 13,
   "id": "68e3348f",
   "metadata": {},
   "outputs": [
    {
     "name": "stdout",
     "output_type": "stream",
     "text": [
      "Symbols: died.\n",
      "Tokens: [3724, 13]\n",
      "Symbols: died yesterday.\n",
      "Tokens: [3724, 7415, 13]\n",
      "Symbols: died yesterday in.\n",
      "Tokens: [3724, 7415, 287, 13]\n",
      "Symbols: died yesterday in a.\n",
      "Tokens: [3724, 7415, 287, 257, 13]\n",
      "Symbols: died yesterday in a very.\n",
      "Tokens: [3724, 7415, 287, 257, 845, 13]\n",
      "Symbols: died yesterday in a very sad.\n",
      "Tokens: [3724, 7415, 287, 257, 845, 6507, 13]\n",
      "Symbols: died yesterday in a very sad way.\n",
      "Tokens: [3724, 7415, 287, 257, 845, 6507, 835, 13]\n",
      "Symbols: died yesterday in a very sad way due.\n",
      "Tokens: [3724, 7415, 287, 257, 845, 6507, 835, 2233, 13]\n",
      "Symbols: died yesterday in a very sad way due to.\n",
      "Tokens: [3724, 7415, 287, 257, 845, 6507, 835, 2233, 284, 13]\n",
      "Symbols: died yesterday in a very sad way due to a.\n",
      "Tokens: [3724, 7415, 287, 257, 845, 6507, 835, 2233, 284, 257, 13]\n",
      "Symbols: died yesterday in a very sad way due to a heart.\n",
      "Tokens: [3724, 7415, 287, 257, 845, 6507, 835, 2233, 284, 257, 2612, 13]\n",
      "Symbols: died yesterday in a very sad way due to a heart attack.\n",
      "Tokens: [3724, 7415, 287, 257, 845, 6507, 835, 2233, 284, 257, 2612, 1368, 13]\n"
     ]
    }
   ],
   "source": [
    "for symbols in symbols_dummy:\n",
    "    tokens = tokenizer.encode(symbols)\n",
    "    print(f\"Symbols: {symbols}\")\n",
    "    print(f\"Tokens: {tokens}\")"
   ]
  },
  {
   "cell_type": "code",
   "execution_count": 19,
   "id": "b46daea2",
   "metadata": {},
   "outputs": [
    {
     "name": "stdout",
     "output_type": "stream",
     "text": [
      "tensor([[50256,   383,  6253,   373,   845,  5863,    13]])\n"
     ]
    }
   ],
   "source": [
    "prompt = tokenizer.decode(tokenizer.bos_token_id) + \"The doctor was very famous.\"\n",
    "input_ids = torch.tensor(tokenizer.encode(prompt)).reshape(1, -1).to(device)\n",
    "\n",
    "print(input_ids)\n",
    "\n",
    "with torch.no_grad():\n",
    "    output = model(input_ids)\n",
    "    logits = output.logits[:, -1, :]\n",
    "    probs = torch.softmax(logits, dim=-1)[0]"
   ]
  },
  {
   "cell_type": "code",
   "execution_count": 21,
   "id": "fa2b58ce",
   "metadata": {},
   "outputs": [
    {
     "name": "stdout",
     "output_type": "stream",
     "text": [
      "['He', 'She']\n",
      "[[679], [1375]]\n",
      "[679]\n",
      "[1375]\n"
     ]
    },
    {
     "data": {
      "text/plain": [
       "{'He': 0.9474213481974543, 'She': 0.0525786518025457}"
      ]
     },
     "execution_count": 21,
     "metadata": {},
     "output_type": "execute_result"
    }
   ],
   "source": [
    "word_probs = {}\n",
    "print(symbols_important)\n",
    "symbols_important_ids = [tokenizer.encode(sym) for sym in symbols_important]\n",
    "print(symbols_important_ids)\n",
    "for i in symbols_important_ids :\n",
    "    print(i)\n",
    "    \n",
    "    word_prob = probs[i]\n",
    "    word_probs[tokenizer.decode(i).replace(\" \",\"\")] = word_prob.item()\n",
    "\n",
    "    \n",
    "normalized_word_probs_he_she = {}\n",
    "total = sum(word_probs.values())\n",
    "for word in word_probs:\n",
    "    normalized_word_probs_he_she[word] = word_probs[word] / total\n",
    "\n",
    "normalized_word_probs_he_she"
   ]
  },
  {
   "cell_type": "code",
   "execution_count": 69,
   "id": "aeefff61",
   "metadata": {},
   "outputs": [
    {
     "data": {
      "image/png": "[encoded data removed]",
      "text/plain": [
       "<Figure size 432x288 with 1 Axes>"
      ]
     },
     "metadata": {
      "needs_background": "light"
     },
     "output_type": "display_data"
    }
   ],
   "source": [
    "import numpy as np\n",
    "import matplotlib.pyplot as plt\n",
    "from collections import Counter\n",
    "\n",
    "\n",
    "choices = []\n",
    "num_choices = 1000\n",
    "for _ in range(num_choices):\n",
    "    symbol_choosen = np.random.choice(list(normalized_word_probs_he_she.keys()), \n",
    "                                       p=list(normalized_word_probs_he_she.values()))\n",
    "    choices.append(symbol_choosen)\n",
    "\n",
    "frequency = Counter(choices)\n",
    "\n",
    "plt.bar(frequency.keys(), frequency.values())\n",
    "plt.xlabel('Símbolos Elegidos')\n",
    "plt.ylabel('Frecuencia')\n",
    "plt.title('Frecuencia de Símbolos Elegidos')\n",
    "plt.xticks(rotation=45)\n",
    "plt.show()"
   ]
  }
 ],
 "metadata": {
  "kernelspec": {
   "display_name": "Python 3 (ipykernel)",
   "language": "python",
   "name": "python3"
  },
  "language_info": {
   "codemirror_mode": {
    "name": "ipython",
    "version": 3
   },
   "file_extension": ".py",
   "mimetype": "text/x-python",
   "name": "python",
   "nbconvert_exporter": "python",
   "pygments_lexer": "ipython3",
   "version": "3.9.7"
  }
 },
 "nbformat": 4,
 "nbformat_minor": 5
}
