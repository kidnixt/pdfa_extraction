{
 "cells": [
  {
   "cell_type": "code",
   "execution_count": 1,
   "id": "6dc7575f",
   "metadata": {},
   "outputs": [
    {
     "name": "stderr",
     "output_type": "stream",
     "text": [
      "/opt/conda/lib/python3.9/site-packages/transformers/tokenization_utils_base.py:1601: FutureWarning: `clean_up_tokenization_spaces` was not set. It will be set to `True` by default. This behavior will be depracted in transformers v4.45, and will be then set to `False` by default. For more details check this issue: https://github.com/huggingface/transformers/issues/31884\n",
      "  warnings.warn(\n"
     ]
    }
   ],
   "source": [
    "import torch\n",
    "from transformers import AutoModelForCausalLM\n",
    "from transformers import AutoTokenizer\n",
    "import sys\n",
    "from datetime import datetime\n",
    "sys.path.append(\"../\")\n",
    "sys.path.append(\"../../\")\n",
    "torch.manual_seed(42)\n",
    "device = \"cuda\" if torch.cuda.is_available() else \"cpu\"\n",
    "model_id = \"gpt2\"\n",
    "\n",
    "tokenizer = AutoTokenizer.from_pretrained(model_id, use_fast=True, add_prefix_space=True, local_files_only = False)\n",
    "model = AutoModelForCausalLM.from_pretrained(model_id,\n",
    "                                            return_dict_in_generate=True,\n",
    "                                            pad_token_id=tokenizer.eos_token_id).to(device)"
   ]
  },
  {
   "cell_type": "code",
   "execution_count": 2,
   "id": "f4c0792d",
   "metadata": {},
   "outputs": [],
   "source": [
    "symbols_important = [\"He\", \"She\"]\n",
    "symbols_dummy = [\"died.\", \n",
    "                 \"died yesterday.\",\n",
    "                 \"died yesterday in.\", \n",
    "                 \"died yesterday in a.\", \n",
    "                 \"died yesterday in a very.\", \n",
    "                 \"died yesterday in a very sad.\", \n",
    "                 \"died yesterday in a very sad way.\", \n",
    "                 \"died yesterday in a very sad way due.\", \n",
    "                 \"died yesterday in a very sad way due to.\", \n",
    "                 \"died yesterday in a very sad way due to a.\",\n",
    "                 \"died yesterday in a very sad way due to a heart.\", \n",
    "                 \"died yesterday in a very sad way due to a heart attack.\"]"
   ]
  },
  {
   "cell_type": "code",
   "execution_count": 3,
   "id": "29ee5b2b",
   "metadata": {},
   "outputs": [
    {
     "name": "stdout",
     "output_type": "stream",
     "text": [
      "[679, 1375]\n",
      "['He', 'She']\n"
     ]
    }
   ],
   "source": [
    "print(tokenizer.encode(symbols_important))\n",
    "print(symbols_important)"
   ]
  },
  {
   "cell_type": "code",
   "execution_count": 4,
   "id": "f34db437",
   "metadata": {},
   "outputs": [
    {
     "name": "stdout",
     "output_type": "stream",
     "text": [
      "Symbols: died.\n",
      "Tokens: [3724, 13]\n",
      "Symbols: died yesterday.\n",
      "Tokens: [3724, 7415, 13]\n",
      "Symbols: died yesterday in.\n",
      "Tokens: [3724, 7415, 287, 13]\n",
      "Symbols: died yesterday in a.\n",
      "Tokens: [3724, 7415, 287, 257, 13]\n",
      "Symbols: died yesterday in a very.\n",
      "Tokens: [3724, 7415, 287, 257, 845, 13]\n",
      "Symbols: died yesterday in a very sad.\n",
      "Tokens: [3724, 7415, 287, 257, 845, 6507, 13]\n",
      "Symbols: died yesterday in a very sad way.\n",
      "Tokens: [3724, 7415, 287, 257, 845, 6507, 835, 13]\n",
      "Symbols: died yesterday in a very sad way due.\n",
      "Tokens: [3724, 7415, 287, 257, 845, 6507, 835, 2233, 13]\n",
      "Symbols: died yesterday in a very sad way due to.\n",
      "Tokens: [3724, 7415, 287, 257, 845, 6507, 835, 2233, 284, 13]\n",
      "Symbols: died yesterday in a very sad way due to a.\n",
      "Tokens: [3724, 7415, 287, 257, 845, 6507, 835, 2233, 284, 257, 13]\n",
      "Symbols: died yesterday in a very sad way due to a heart.\n",
      "Tokens: [3724, 7415, 287, 257, 845, 6507, 835, 2233, 284, 257, 2612, 13]\n",
      "Symbols: died yesterday in a very sad way due to a heart attack.\n",
      "Tokens: [3724, 7415, 287, 257, 845, 6507, 835, 2233, 284, 257, 2612, 1368, 13]\n"
     ]
    }
   ],
   "source": [
    "for symbols in symbols_dummy:\n",
    "    tokens = tokenizer.encode(symbols)\n",
    "    print(f\"Symbols: {symbols}\")\n",
    "    print(f\"Tokens: {tokens}\")"
   ]
  },
  {
   "cell_type": "code",
   "execution_count": 5,
   "id": "347f1188",
   "metadata": {},
   "outputs": [
    {
     "name": "stderr",
     "output_type": "stream",
     "text": [
      "/opt/conda/lib/python3.9/site-packages/scipy/__init__.py:146: UserWarning: A NumPy version >=1.16.5 and <1.23.0 is required for this version of SciPy (detected version 1.26.4\n",
      "  warnings.warn(f\"A NumPy version >={np_minversion} and <{np_maxversion}\"\n",
      "We strongly recommend passing in an `attention_mask` since your input_ids may be padded. See https://huggingface.co/docs/transformers/troubleshooting#incorrect-output-when-padding-tokens-arent-masked.\n",
      "You may ignore this warning if your `pad_token_id` (50256) is identical to the `bos_token_id` (50256), `eos_token_id` (50256), or the `sep_token_id` (None), and your input is not padded.\n"
     ]
    },
    {
     "name": "stdout",
     "output_type": "stream",
     "text": [
      "tensor([[50256,   383,  6253,   373,   845,  5863,    13]])\n"
     ]
    }
   ],
   "source": [
    "prompt = tokenizer.decode(tokenizer.bos_token_id) + \"The doctor was very famous.\"\n",
    "input_ids = torch.tensor(tokenizer.encode(prompt)).reshape(1, -1).to(device)\n",
    "\n",
    "print(input_ids)\n",
    "\n",
    "with torch.no_grad():\n",
    "    output = model(input_ids)\n",
    "    logits = output.logits[:, -1, :]\n",
    "    probs = torch.softmax(logits, dim=-1)[0]"
   ]
  },
  {
   "cell_type": "code",
   "execution_count": 6,
   "id": "b14d3b86",
   "metadata": {},
   "outputs": [
    {
     "name": "stdout",
     "output_type": "stream",
     "text": [
      "['He', 'She']\n",
      "[[679], [1375]]\n",
      "[679]\n",
      "[1375]\n"
     ]
    },
    {
     "data": {
      "text/plain": [
       "{'He': 0.9474213481974543, 'She': 0.0525786518025457}"
      ]
     },
     "execution_count": 6,
     "metadata": {},
     "output_type": "execute_result"
    }
   ],
   "source": [
    "word_probs = {}\n",
    "print(symbols_important)\n",
    "symbols_important_ids = [tokenizer.encode(sym) for sym in symbols_important]\n",
    "print(symbols_important_ids)\n",
    "for i in symbols_important_ids :\n",
    "    print(i)\n",
    "    \n",
    "    word_prob = probs[i]\n",
    "    word_probs[tokenizer.decode(i).replace(\" \",\"\")] = word_prob.item()\n",
    "\n",
    "    \n",
    "normalized_word_probs_he_she = {}\n",
    "total = sum(word_probs.values())\n",
    "for word in word_probs:\n",
    "    normalized_word_probs_he_she[word] = word_probs[word] / total\n",
    "\n",
    "normalized_word_probs_he_she"
   ]
  },
  {
   "cell_type": "code",
   "execution_count": 7,
   "id": "9d6fbbcb",
   "metadata": {},
   "outputs": [
    {
     "data": {
      "image/png": "[encoded data removed]",
      "text/plain": [
       "<Figure size 432x288 with 1 Axes>"
      ]
     },
     "metadata": {
      "needs_background": "light"
     },
     "output_type": "display_data"
    }
   ],
   "source": [
    "import numpy as np\n",
    "import matplotlib.pyplot as plt\n",
    "from collections import Counter\n",
    "\n",
    "choices = []\n",
    "num_choices = 1000\n",
    "for _ in range(num_choices):\n",
    "    symbol_choosen = np.random.choice(list(normalized_word_probs_he_she.keys()), \n",
    "                                       p=list(normalized_word_probs_he_she.values()))\n",
    "    choices.append(symbol_choosen)\n",
    "\n",
    "frequency = Counter(choices)\n",
    "\n",
    "plt.bar(frequency.keys(), frequency.values())\n",
    "plt.xlabel('Símbolos Elegidos')\n",
    "plt.ylabel('Frecuencia')\n",
    "plt.title('Frecuencia de Símbolos Elegidos')\n",
    "plt.xticks(rotation=45)\n",
    "plt.show()"
   ]
  },
  {
   "cell_type": "code",
   "execution_count": 8,
   "id": "9d377239",
   "metadata": {},
   "outputs": [
    {
     "name": "stdout",
     "output_type": "stream",
     "text": [
      "<|endoftext|>The doctor was very famous. He\n",
      "<|endoftext|>The doctor was very famous.He\n",
      "tensor([[50256,   383,  6253,   373,   845,  5863,    13,   679]])\n",
      "tensor([[50256,   383,  6253,   373,   845,  5863,    13,  1544]])\n"
     ]
    }
   ],
   "source": [
    "symbol_choosen = np.random.choice(list(normalized_word_probs_he_she.keys()), \n",
    "                                       p=list(normalized_word_probs_he_she.values()))\n",
    "\n",
    "prompt_v2 = tokenizer.decode(tokenizer.bos_token_id) + \"The doctor was very famous. \" + symbol_choosen\n",
    "print(prompt_v2)\n",
    "\n",
    "prompt = tokenizer.decode(tokenizer.bos_token_id) + \"The doctor was very famous.\" + symbol_choosen\n",
    "print(prompt)\n",
    "input_ids_v2 = torch.tensor(tokenizer.encode(prompt_v2)).reshape(1, -1).to(device)\n",
    "print(input_ids_v2)\n",
    "\n",
    "#we gonna use this one now\n",
    "input_ids = torch.tensor(tokenizer.encode(prompt)).reshape(1, -1).to(device)\n",
    "print(input_ids)\n"
   ]
  },
  {
   "cell_type": "code",
   "execution_count": 9,
   "id": "6f1ca1c9",
   "metadata": {},
   "outputs": [],
   "source": [
    "with torch.no_grad():\n",
    "    output = model(input_ids)\n",
    "    logits = output.logits[:, -1, :]\n",
    "    probs = torch.softmax(logits, dim=-1)[0]"
   ]
  },
  {
   "cell_type": "code",
   "execution_count": 10,
   "id": "45733289",
   "metadata": {},
   "outputs": [
    {
     "name": "stdout",
     "output_type": "stream",
     "text": [
      "['died.']\n",
      "['died', 'yesterday.']\n",
      "['died', 'yesterday', 'in.']\n",
      "['died', 'yesterday', 'in', 'a.']\n",
      "['died', 'yesterday', 'in', 'a', 'very.']\n",
      "['died', 'yesterday', 'in', 'a', 'very', 'sad.']\n",
      "['died', 'yesterday', 'in', 'a', 'very', 'sad', 'way.']\n",
      "['died', 'yesterday', 'in', 'a', 'very', 'sad', 'way', 'due.']\n",
      "['died', 'yesterday', 'in', 'a', 'very', 'sad', 'way', 'due', 'to.']\n",
      "['died', 'yesterday', 'in', 'a', 'very', 'sad', 'way', 'due', 'to', 'a.']\n",
      "['died', 'yesterday', 'in', 'a', 'very', 'sad', 'way', 'due', 'to', 'a', 'heart.']\n",
      "['died', 'yesterday', 'in', 'a', 'very', 'sad', 'way', 'due', 'to', 'a', 'heart', 'attack.']\n"
     ]
    }
   ],
   "source": [
    "split_lists = [sentence.split() for sentence in symbols_dummy]\n",
    "\n",
    "for lst in split_lists:\n",
    "    print(lst)"
   ]
  },
  {
   "cell_type": "code",
   "execution_count": 11,
   "id": "cb182317",
   "metadata": {},
   "outputs": [
    {
     "name": "stdout",
     "output_type": "stream",
     "text": [
      "['died.']\n",
      "[[3724], [13]]\n",
      "[3724]\n",
      "[13]\n"
     ]
    },
    {
     "data": {
      "text/plain": [
       "{'died': 0.9881285521100452, '.': 0.011871447889954789}"
      ]
     },
     "execution_count": 11,
     "metadata": {},
     "output_type": "execute_result"
    }
   ],
   "source": [
    "word_probs.clear()\n",
    "\n",
    "print(split_lists[0])\n",
    "sentence = split_lists[0]\n",
    "symbols_dummy_ids = [tokenizer.encode(sym) for sym in sentence]\n",
    "symbols_dummy_ids = [[token_id] for sublist in symbols_dummy_ids for token_id in sublist]\n",
    "print(symbols_dummy_ids)\n",
    "for i in symbols_dummy_ids :\n",
    "    print(i)\n",
    "    \n",
    "    word_prob = probs[i]\n",
    "    word_probs[tokenizer.decode(i).replace(\" \",\"\")] = word_prob.item()\n",
    "    \n",
    "normalized_word_probs_dummy = {}\n",
    "total = sum(word_probs.values())\n",
    "for word in word_probs:\n",
    "    normalized_word_probs_dummy[word] = word_probs[word] / total\n",
    "\n",
    "normalized_word_probs_dummy"
   ]
  },
  {
   "cell_type": "code",
   "execution_count": 12,
   "id": "992c99fd",
   "metadata": {},
   "outputs": [
    {
     "data": {
      "text/plain": [
       "'<|endoftext|>The doctor was very famous.He died.'"
      ]
     },
     "execution_count": 12,
     "metadata": {},
     "output_type": "execute_result"
    }
   ],
   "source": [
    "\n",
    "prompt = tokenizer.decode(tokenizer.bos_token_id) + \"The doctor was very famous.\" + symbol_choosen + \" \" +sentence[0]\n",
    "prompt\n",
    "\n"
   ]
  },
  {
   "cell_type": "code",
   "execution_count": 13,
   "id": "5058aa37",
   "metadata": {},
   "outputs": [
    {
     "name": "stdout",
     "output_type": "stream",
     "text": [
      "['died', 'yesterday.']\n",
      "[[3724], [7415], [13]]\n",
      "[3724]\n",
      "[7415]\n",
      "[13]\n"
     ]
    },
    {
     "data": {
      "text/plain": [
       "{'died': 0.9880029857200155,\n",
       " 'yesterday': 0.00012707495372092723,\n",
       " '.': 0.011869939326263573}"
      ]
     },
     "execution_count": 13,
     "metadata": {},
     "output_type": "execute_result"
    }
   ],
   "source": [
    "word_probs.clear()\n",
    "\n",
    "\n",
    "print(split_lists[1])\n",
    "sentence = split_lists[1]\n",
    "symbols_dummy_ids = [tokenizer.encode(sym) for sym in sentence]\n",
    "symbols_dummy_ids = [[token_id] for sublist in symbols_dummy_ids for token_id in sublist]\n",
    "print(symbols_dummy_ids)\n",
    "for i in symbols_dummy_ids :\n",
    "    print(i)\n",
    "    \n",
    "    word_prob = probs[i]\n",
    "    word_probs[tokenizer.decode(i).replace(\" \",\"\")] = word_prob.item()\n",
    "    \n",
    "normalized_word_probs_dummy = {}\n",
    "total = sum(word_probs.values())\n",
    "for word in word_probs:\n",
    "    normalized_word_probs_dummy[word] = word_probs[word] / total\n",
    "\n",
    "normalized_word_probs_dummy\n"
   ]
  },
  {
   "cell_type": "code",
   "execution_count": 14,
   "id": "01df91a0",
   "metadata": {},
   "outputs": [
    {
     "name": "stdout",
     "output_type": "stream",
     "text": [
      "died\n",
      "['died', 'yesterday.']\n",
      "{'died': 0.9880029857200155, 'yesterday': 0.00012707495372092723, '.': 0.011869939326263573}\n",
      "yesterday.\n",
      "['died', 'yesterday.']\n",
      "{'died': 0.9880029857200155, 'yesterday': 0.00012707495372092723, '.': 0.011869939326263573}\n"
     ]
    }
   ],
   "source": [
    "prompt = tokenizer.decode(tokenizer.bos_token_id) + \"The doctor was very famous.\" + symbol_choosen + \" \" +sentence[0]\n",
    "\n",
    "\n",
    "for words in sentence:\n",
    "    print(words)\n",
    "    symbols_dummy_ids = [tokenizer.encode(sym) for sym in sentence]\n",
    "    symbols_dummy_ids = [[token_id] for sublist in symbols_dummy_ids for token_id in sublist]\n",
    "    for i in symbols_dummy_ids:\n",
    "        word_prob = probs[i]\n",
    "        word_probs[tokenizer.decode(i).replace(\" \",\"\")] = word_prob.item()\n",
    "        \n",
    "    \n",
    "    normalized_word_probs_dummy.clear()\n",
    "    normalized_word_probs_dummy = {}\n",
    "    total = sum(word_probs.values())\n",
    "    for word in word_probs:\n",
    "        normalized_word_probs_dummy[word] = word_probs[word] / total\n",
    "        \n",
    "    print(sentence)\n",
    "    \n",
    "        \n",
    "    print(normalized_word_probs_dummy)\n"
   ]
  },
  {
   "cell_type": "code",
   "execution_count": 22,
   "id": "1689fdaf",
   "metadata": {},
   "outputs": [
    {
     "name": "stdout",
     "output_type": "stream",
     "text": [
      "Original sentence: ['died', 'yesterday.']\n",
      "Current sentence: ['died', 'yesterday.']\n",
      "Token IDs: [[3724], [7415], [13]]\n",
      "Normalized probabilities for 'died yesterday.': {'died': 0.9880029857200155, 'yesterday': 0.00012707495372092723, '.': 0.011869939326263573}\n",
      "Current sentence: ['yesterday.']\n",
      "Token IDs: [[7415], [13]]\n",
      "Normalized probabilities for 'yesterday.': {'yesterday': 0.010592214925753296, '.': 0.9894077850742468}\n"
     ]
    }
   ],
   "source": [
    "def calculate_probabilities(split_lists, index, tokenizer, model, device):\n",
    "    # Tomar la lista de palabras en la posición 'index' de split_lists\n",
    "    sentence = split_lists[index]\n",
    "    print(f\"Original sentence: {sentence}\")\n",
    "\n",
    "    # Iterar sobre la lista reduciendo el tamaño en cada paso\n",
    "    for i in range(len(sentence)):\n",
    "        # Limpiar word_probs para cada sublista\n",
    "        word_probs.clear()\n",
    "\n",
    "        # Usar solo las palabras desde el índice actual hasta el final\n",
    "        current_sentence = sentence[i:]\n",
    "\n",
    "        # Codificar los tokens y organizarlos en la forma [[token_id]]\n",
    "        symbols_dummy_ids = [tokenizer.encode(sym) for sym in current_sentence]\n",
    "        symbols_dummy_ids = [[token_id] for sublist in symbols_dummy_ids for token_id in sublist]\n",
    "\n",
    "        print(f\"Current sentence: {current_sentence}\")\n",
    "        print(f\"Token IDs: {symbols_dummy_ids}\")\n",
    "\n",
    "        # Recalcular las probabilidades para los tokens actuales\n",
    "        for token_ids in symbols_dummy_ids:\n",
    "            for token in token_ids:\n",
    "                word_prob = probs[token]  # Asumiendo que 'probs' ya fue calculado en el contexto del modelo\n",
    "                word_probs[tokenizer.decode(token).replace(\" \",\"\")] = word_prob.item()\n",
    "\n",
    "        # Normalizar las probabilidades\n",
    "        normalized_word_probs_dummy = {}\n",
    "        total = sum(word_probs.values())\n",
    "        for word in word_probs:\n",
    "            normalized_word_probs_dummy[word] = word_probs[word] / total\n",
    "\n",
    "        print(f\"Normalized probabilities for '{' '.join(current_sentence)}': {normalized_word_probs_dummy}\")\n",
    "    \n",
    "    return normalized_word_probs_dummy\n",
    "\n",
    "# Ejemplo de uso:\n",
    "normalized_word_probs_dummy = calculate_probabilities(split_lists, 1, tokenizer, model, device)\n"
   ]
  }
 ],
 "metadata": {
  "kernelspec": {
   "display_name": "Python 3 (ipykernel)",
   "language": "python",
   "name": "python3"
  },
  "language_info": {
   "codemirror_mode": {
    "name": "ipython",
    "version": 3
   },
   "file_extension": ".py",
   "mimetype": "text/x-python",
   "name": "python",
   "nbconvert_exporter": "python",
   "pygments_lexer": "ipython3",
   "version": "3.9.7"
  }
 },
 "nbformat": 4,
 "nbformat_minor": 5
}
